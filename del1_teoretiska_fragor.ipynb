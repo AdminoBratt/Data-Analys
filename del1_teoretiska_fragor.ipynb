{
 "cells": [
  {
   "cell_type": "markdown",
   "id": "89492cf5",
   "metadata": {},
   "source": [
    "# 📚 Del 1: Teoretiska Frågor och Python-Övningar"
   ]
  },
  {
   "cell_type": "markdown",
   "id": "1b67caed",
   "metadata": {},
   "source": [
    "## 1. Vad är skillnaden på en tuple och en lista i Python? Är den ena datatypen bättre än den andra?"
   ]
  },
  {
   "cell_type": "markdown",
   "id": "f830e622",
   "metadata": {},
   "source": [
    "skillnaden på en tuple och en lista är att en tuple går inte att ändra och en lista går att ändra. desutom har en lista fler inbyggda metoder än en tuple, men är långsammare rent prestanda mässigt.\n",
    "\n",
    "den ena är inte bättre än den andra rakt av, det beror på vad man vill göra med den.\n",
    "\n",
    "en tuple är bättre att använda när man vill ha en lista som inte kan ändras. t.ex nycklar i en dictionary."
   ]
  },
  {
   "cell_type": "markdown",
   "id": "e7b385f9",
   "metadata": {},
   "source": []
  },
  {
   "cell_type": "markdown",
   "id": "de3b0917",
   "metadata": {},
   "source": [
    "## 2. Vad är en funktion för något? Varför kan funktioner vara användbara?"
   ]
  },
  {
   "cell_type": "markdown",
   "id": "a9566a14",
   "metadata": {},
   "source": [
    "En funktion är en bit av kod som kan återanvändas för att göra samma sak igen och igen. iställlet för att skriva samma kod flera gånger kan man skapa en funktion man kan kalla på vid behov."
   ]
  },
  {
   "cell_type": "markdown",
   "id": "6a7b2969",
   "metadata": {},
   "source": [
    "## 3. Förklara vad följande begrepp, kopplat till klasser, betyder:\n",
    "- a) Instans\n",
    "- b) Attribut\n",
    "- c) Metod"
   ]
  },
  {
   "cell_type": "markdown",
   "id": "e7024cc8",
   "metadata": {},
   "source": [
    "A. En instans är ett objekt som skapats från en klass\n",
    "exempel:\n",
    "class Bil:\n",
    "    pass\n",
    "\n",
    "min_bil = Bil()\n",
    "Detta blir en instans av klassen Bil\n",
    "\n",
    "B. Attribut är en variabel som tillhör en instans\n",
    "exempel:\n",
    "class Bil:\n",
    "    def __init__(self, färg):\n",
    "        self.färg = färg  \n",
    "\n",
    "min_bil = Bil(\"röd\")\n",
    "print(min_bil.färg)  \n",
    "\n",
    "\n",
    "C.En metod är en funktion som tillhör en klass/instans\n",
    "exempel:\n",
    "class Bil:\n",
    "    def starta(self):         \n",
    "        print(\"Bilen startar\")\n",
    "\n",
    "min_bil = Bil()\n",
    "min_bil.starta() \n",
    "\n",
    "\n",
    "\n"
   ]
  },
  {
   "cell_type": "markdown",
   "id": "496dda2c",
   "metadata": {},
   "source": [
    "## 4. Vad är Streamlit för något?"
   ]
  },
  {
   "cell_type": "markdown",
   "id": "f71e21d3",
   "metadata": {},
   "source": [
    "Streamlit är ett python ramverk som används för att skapa interaktiva webbapplikationer. särskilt bra för bland annat dataanalys och visualisering."
   ]
  },
  {
   "cell_type": "markdown",
   "id": "d4181283",
   "metadata": {},
   "source": [
    "## 5. Python-Övningar"
   ]
  },
  {
   "cell_type": "markdown",
   "id": "a3304e50",
   "metadata": {},
   "source": [
    "### a) Skapa en klass som heter `BankAccount` med följande:\n",
    "- Attribut: `account_holder`, `balance`\n",
    "- Metoder: `deposit()`, `withdraw()`\n",
    "- Om kontoinnehavaren försöker ta ut mer pengar än saldot, skriv ut 'Too low balance'."
   ]
  },
  {
   "cell_type": "code",
   "execution_count": 1,
   "id": "2dcd794f",
   "metadata": {},
   "outputs": [],
   "source": [
    "class BankAccount:\n",
    "    def __init__(self, account_holder, balance):\n",
    "        self.account_holder = account_holder\n",
    "        self.balance = balance\n",
    "\n",
    "    def deposit(self, amount):\n",
    "        self.balance += amount\n",
    "        print(f\"Insättning: {amount} kr. Nytt saldo: {self.balance} kr.\")\n",
    "\n",
    "    def withdraw(self, amount):\n",
    "        if amount > self.balance:\n",
    "            print(\"Too low balance\")\n",
    "        else:\n",
    "            self.balance -= amount\n",
    "            print(f\"Uttag: {amount} kr. Nytt saldo: {self.balance} kr.\")\n"
   ]
  },
  {
   "cell_type": "markdown",
   "id": "8e9f0a9b",
   "metadata": {},
   "source": [
    "### b) Skapa en instans av klassen och testa att den fungerar."
   ]
  },
  {
   "cell_type": "code",
   "execution_count": 2,
   "id": "b91df547",
   "metadata": {},
   "outputs": [
    {
     "name": "stdout",
     "output_type": "stream",
     "text": [
      "Insättning: 500 kr. Nytt saldo: 1500 kr.\n",
      "Uttag: 300 kr. Nytt saldo: 1200 kr.\n",
      "Too low balance\n"
     ]
    }
   ],
   "source": [
    "\n",
    "konto1 = BankAccount(\"Sigge Bratt\", 1000)\n",
    "\n",
    "\n",
    "konto1.deposit(500)       \n",
    "\n",
    "\n",
    "konto1.withdraw(300)      \n",
    "\n",
    "\n",
    "konto1.withdraw(2000)     \n"
   ]
  },
  {
   "cell_type": "markdown",
   "id": "f43384b9",
   "metadata": {},
   "source": [
    "### 6. Skapa en funktion som beräknar antalet vokaler i en sträng."
   ]
  },
  {
   "cell_type": "code",
   "execution_count": 6,
   "id": "cf77d5d6",
   "metadata": {},
   "outputs": [
    {
     "name": "stdout",
     "output_type": "stream",
     "text": [
      "6\n"
     ]
    }
   ],
   "source": [
    "def räkna_vokaler(text):\n",
    "    vokaler = \"aeiouyåäöAEIOUYÅÄÖ\"\n",
    "    antal = 0\n",
    "    for bokstav in text:\n",
    "        if bokstav in vokaler:\n",
    "            antal += 1\n",
    "    return antal\n",
    "\n",
    "\n",
    "#test av funktionen\n",
    "mening = \"Jag heter Sigge Bratt\"\n",
    "print(räkna_vokaler(mening))\n",
    "\n"
   ]
  },
  {
   "cell_type": "markdown",
   "id": "25e9d9d4",
   "metadata": {},
   "source": [
    "### 7. Skapa en funktion som tar två listor som argument och returnerar de gemensamma elementen i en ny lista."
   ]
  },
  {
   "cell_type": "code",
   "execution_count": 4,
   "id": "86d6cbff",
   "metadata": {},
   "outputs": [
    {
     "name": "stdout",
     "output_type": "stream",
     "text": [
      "[3, 4]\n"
     ]
    }
   ],
   "source": [
    "def gemensamma_element(lista1, lista2):\n",
    "    return [element for element in lista1 if element in lista2]\n",
    "\n",
    "lista_a = [1, 2, 3, 4]\n",
    "lista_b = [3, 4, 5, 6]\n",
    "\n",
    "resultat = gemensamma_element(lista_a, lista_b)\n",
    "print(resultat) \n"
   ]
  },
  {
   "cell_type": "markdown",
   "id": "1e580e81",
   "metadata": {},
   "source": [
    "## 8. Stork och barnafödsel – Stämmer påståendet? Använd begreppet kausalitet i ditt svar."
   ]
  },
  {
   "cell_type": "markdown",
   "id": "1ff419ec",
   "metadata": {},
   "source": [
    "## 9. Kim påstår att medelvärdet är ett bättre mått än medianvärdet. Håller du med?"
   ]
  },
  {
   "cell_type": "markdown",
   "id": "76018bc3",
   "metadata": {},
   "source": [
    "## 10. Vad används cirkeldiagram för? Ge ett exempel på hur Spotify (eller ett annat företag) kan använda det."
   ]
  },
  {
   "cell_type": "markdown",
   "id": "830bafca",
   "metadata": {},
   "source": [
    "## 11. Vad används linjediagram för? Ge ett exempel på hur Spotify (eller ett annat företag) kan använda det."
   ]
  },
  {
   "cell_type": "markdown",
   "id": "0123f445",
   "metadata": {},
   "source": [
    "## 12. Vad används lådagram (boxplots) för?"
   ]
  },
  {
   "cell_type": "markdown",
   "id": "5f78a038",
   "metadata": {},
   "source": [
    "# ✅ Självutvärdering"
   ]
  },
  {
   "cell_type": "markdown",
   "id": "6efcfa98",
   "metadata": {},
   "source": [
    "- **Vad har varit roligast?**\n",
    "- **Vilket betyg anser du att du ska ha och varför?**\n",
    "- **Vad har varit mest utmanande och hur har du hanterat det?**"
   ]
  }
 ],
 "metadata": {
  "kernelspec": {
   "display_name": ".venv",
   "language": "python",
   "name": "python3"
  },
  "language_info": {
   "codemirror_mode": {
    "name": "ipython",
    "version": 3
   },
   "file_extension": ".py",
   "mimetype": "text/x-python",
   "name": "python",
   "nbconvert_exporter": "python",
   "pygments_lexer": "ipython3",
   "version": "3.12.6"
  }
 },
 "nbformat": 4,
 "nbformat_minor": 5
}
